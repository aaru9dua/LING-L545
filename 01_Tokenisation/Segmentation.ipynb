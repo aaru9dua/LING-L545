{
 "cells": [
  {
   "cell_type": "markdown",
   "id": "ba677204",
   "metadata": {},
   "source": [
    "# Sentence Segmentation Methods"
   ]
  },
  {
   "cell_type": "code",
   "execution_count": 64,
   "id": "972e71d3",
   "metadata": {},
   "outputs": [],
   "source": [
    "#Let's Load the Data First!\n",
    "\n",
    "#ENGLISH WIKIPEDIA DUMP\n",
    "file= open('wiki.txt','r')\n",
    "data=file.read()\n",
    "\n",
    "\n",
    "#Let's slice some data chunks\n",
    "sm_data=data[1600:4000]"
   ]
  },
  {
   "cell_type": "code",
   "execution_count": 65,
   "id": "43d159bf",
   "metadata": {},
   "outputs": [
    {
     "data": {
      "text/plain": [
       "'employ diverse approaches, which may be generally divided into revolutionary and evolutionary strategies; there is significant overlap between the two. Evolutionary methods try to simulate what an anarchist society might be like, but revolutionary tactics, which have historically taken a violent turn, aim to overthrow authority and the state. Many facets of human civilization have been influenced by anarchist theory, critique, and praxis.\\nEtymology, terminology, and definition.\\nThe etymological origin of \"anarchism\" is from the Ancient Greek \"anarkhia\", meaning \"without a ruler\", composed of the prefix \"an-\" (\"without\") and the word \"arkhos\" (\"leader\" or \"ruler\"). The suffix \"-ism\" denotes the ideological current that favours anarchy. \"Anarchism\" appears in English from 1642 as \"anarchisme\" and \"anarchy\" from 1539; early English usages emphasised a sense of disorder. Various factions within the French Revolution labelled their opponents as \"anarchists\", although few such accused shared many views with later anarchists. Many revolutionaries of the 19th century such as William Godwin (1756–1836) and Wilhelm Weitling (1808–1871) would contribute to the anarchist doctrines of the next generation but did not use \"anarchist\" or \"anarchism\" in describing themselves or their beliefs.\\nThe first political philosopher to call himself an \"anarchist\" () was Pierre-Joseph Proudhon (1809–1865), marking the formal birth of anarchism in the mid-19th century. Since the 1890s and beginning in France, \"libertarianism\" has often been used as a synonym for anarchism and its use as a synonym is still common outside the United States. Some usages of \"libertarianism\" refer to individualistic free-market philosophy only, and free-market anarchism in particular is termed \"libertarian anarchism\".\\nWhile the term \"libertarian\" has been largely synonymous with anarchism, its meaning has more recently been diluted by wider adoption from ideologically disparate groups, including both the New Left and libertarian Marxists, who do not associate themselves with authoritarian socialists or a vanguard party, and extreme cultural liberals, who are primarily concerned with civil liberties. Additionally, some anarchists use \"libertarian socialist\" to avoid anarchism\\'s negative connotations and emphasise its connections with socialism. \"Anarchism\" is broadly used to describe the anti-authoritarian w'"
      ]
     },
     "execution_count": 65,
     "metadata": {},
     "output_type": "execute_result"
    }
   ],
   "source": [
    "sm_data"
   ]
  },
  {
   "cell_type": "markdown",
   "id": "dc0e717d",
   "metadata": {},
   "source": [
    "## Spacy Model Segmenter"
   ]
  },
  {
   "cell_type": "markdown",
   "id": "7cad73e9",
   "metadata": {},
   "source": [
    "> The spaCy model segmenter uses a statistical machine learning model trained on annotated text data. It is implemented in Python and leverages spaCy's en_core_web_sm English language model. en_core_web_sm is a small English pipeline trained on written web text "
   ]
  },
  {
   "cell_type": "code",
   "execution_count": 32,
   "id": "6e8e4c92",
   "metadata": {},
   "outputs": [],
   "source": [
    "\n",
    "#Segmenter 1: USing Spacy Model\n",
    "\n",
    "import spacy\n",
    "nlp=spacy.load(\"en_core_web_sm\")\n"
   ]
  },
  {
   "cell_type": "markdown",
   "id": "4ac07647",
   "metadata": {},
   "source": [
    "\n",
    "\n",
    ">After loading a language model using spacy.load(),we can process a piece of text using that model. The result of this processing is a Doc object.\n",
    "\n",
    "> A Doc object represents a processed text document. It contains information about the text, such as the tokens (individual words or punctuation marks), their attributes (like part-of-speech tags and lemmatization), and their relationships (such as dependency parsing).\n"
   ]
  },
  {
   "cell_type": "code",
   "execution_count": 66,
   "id": "0144efdf",
   "metadata": {},
   "outputs": [],
   "source": [
    "doc = nlp(sm_data)"
   ]
  },
  {
   "cell_type": "code",
   "execution_count": 67,
   "id": "c35a9816",
   "metadata": {},
   "outputs": [
    {
     "name": "stdout",
     "output_type": "stream",
     "text": [
      "['_', '__bytes__', '__class__', '__delattr__', '__dir__', '__doc__', '__eq__', '__format__', '__ge__', '__getattribute__', '__getitem__', '__gt__', '__hash__', '__init__', '__init_subclass__', '__iter__', '__le__', '__len__', '__lt__', '__ne__', '__new__', '__pyx_vtable__', '__reduce__', '__reduce_ex__', '__repr__', '__setattr__', '__setstate__', '__sizeof__', '__str__', '__subclasshook__', '__unicode__', '_bulk_merge', '_context', '_get_array_attrs', '_realloc', '_vector', '_vector_norm', 'cats', 'char_span', 'copy', 'count_by', 'doc', 'ents', 'extend_tensor', 'from_array', 'from_bytes', 'from_dict', 'from_disk', 'from_docs', 'from_json', 'get_extension', 'get_lca_matrix', 'has_annotation', 'has_extension', 'has_unknown_spaces', 'has_vector', 'is_nered', 'is_parsed', 'is_sentenced', 'is_tagged', 'lang', 'lang_', 'mem', 'noun_chunks', 'noun_chunks_iterator', 'remove_extension', 'retokenize', 'sentiment', 'sents', 'set_ents', 'set_extension', 'similarity', 'spans', 'tensor', 'text', 'text_with_ws', 'to_array', 'to_bytes', 'to_dict', 'to_disk', 'to_json', 'to_utf8_array', 'user_data', 'user_hooks', 'user_span_hooks', 'user_token_hooks', 'vector', 'vector_norm', 'vocab']\n"
     ]
    }
   ],
   "source": [
    "print(dir(doc))"
   ]
  },
  {
   "cell_type": "markdown",
   "id": "47679e06",
   "metadata": {},
   "source": [
    "> Now using \"doc.sents\" , I iterated through the sentences and print the top 10 segments lines"
   ]
  },
  {
   "cell_type": "code",
   "execution_count": 68,
   "id": "086168a9",
   "metadata": {},
   "outputs": [
    {
     "name": "stdout",
     "output_type": "stream",
     "text": [
      "1: employ diverse approaches, which may be generally divided into revolutionary and evolutionary strategies; there is significant overlap between the two.\n",
      "2: Evolutionary methods try to simulate what an anarchist society might be like, but revolutionary tactics, which have historically taken a violent turn, aim to overthrow authority and the state.\n",
      "3: Many facets of human civilization have been influenced by anarchist theory, critique, and praxis.\n",
      "\n",
      "4: Etymology, terminology, and definition.\n",
      "\n",
      "5: The etymological origin of \"anarchism\" is from the Ancient Greek \"anarkhia\", meaning \"without a ruler\", composed of the prefix \"an-\" (\"without\") and the word \"arkhos\" (\"leader\" or \"ruler\").\n",
      "6: The suffix \"-ism\" denotes the ideological current that favours anarchy.\n",
      "7: \"Anarchism\" appears in English from 1642 as \"anarchisme\" and \"anarchy\" from 1539; early English usages emphasised a sense of disorder.\n",
      "8: Various factions within the French Revolution labelled their opponents as \"anarchists\", although few such accused shared many views with later anarchists.\n",
      "9: Many revolutionaries of the 19th century such as William Godwin (1756–1836) and Wilhelm Weitling (1808–1871) would contribute to the anarchist doctrines of the next generation but did not use \"anarchist\" or \"anarchism\" in describing themselves or their beliefs.\n",
      "\n",
      "10: The first political philosopher to call himself an \"anarchist\" () was Pierre-Joseph Proudhon (1809–1865), marking the formal birth of anarchism in the mid-19th century.\n"
     ]
    }
   ],
   "source": [
    "count=0\n",
    "for sent in doc.sents:\n",
    "    count+=1\n",
    "    print(count,end=\": \")\n",
    "    print(sent)\n",
    "    if count==10:\n",
    "        break"
   ]
  },
  {
   "cell_type": "markdown",
   "id": "1ef6ed1a",
   "metadata": {},
   "source": [
    "## NLTK Punkt Segmenter"
   ]
  },
  {
   "cell_type": "markdown",
   "id": "b4f821d8",
   "metadata": {},
   "source": [
    "> NLTK Punkt segmenter is an unsupervised algorithm for sentence segmentation implemented in Python as part of the Natural Language Toolkit \n",
    "https://www.nltk.org/api/nltk.tokenize.punkt.html"
   ]
  },
  {
   "cell_type": "code",
   "execution_count": 38,
   "id": "f42e25f4",
   "metadata": {},
   "outputs": [
    {
     "name": "stderr",
     "output_type": "stream",
     "text": [
      "[nltk_data] Downloading package punkt to\n",
      "[nltk_data]     /Users/aarushidua/nltk_data...\n",
      "[nltk_data]   Package punkt is already up-to-date!\n"
     ]
    },
    {
     "data": {
      "text/plain": [
       "True"
      ]
     },
     "execution_count": 38,
     "metadata": {},
     "output_type": "execute_result"
    }
   ],
   "source": [
    "#Need to download the package\n",
    "import nltk\n",
    "nltk.download('punkt')"
   ]
  },
  {
   "cell_type": "code",
   "execution_count": 69,
   "id": "7aa53974",
   "metadata": {},
   "outputs": [
    {
     "name": "stdout",
     "output_type": "stream",
     "text": [
      "1: employ diverse approaches, which may be generally divided into revolutionary and evolutionary strategies; there is significant overlap between the two.\n",
      "2: Evolutionary methods try to simulate what an anarchist society might be like, but revolutionary tactics, which have historically taken a violent turn, aim to overthrow authority and the state.\n",
      "3: Many facets of human civilization have been influenced by anarchist theory, critique, and praxis.\n",
      "4: Etymology, terminology, and definition.\n",
      "5: The etymological origin of \"anarchism\" is from the Ancient Greek \"anarkhia\", meaning \"without a ruler\", composed of the prefix \"an-\" (\"without\") and the word \"arkhos\" (\"leader\" or \"ruler\").\n",
      "6: The suffix \"-ism\" denotes the ideological current that favours anarchy.\n",
      "7: \"Anarchism\" appears in English from 1642 as \"anarchisme\" and \"anarchy\" from 1539; early English usages emphasised a sense of disorder.\n",
      "8: Various factions within the French Revolution labelled their opponents as \"anarchists\", although few such accused shared many views with later anarchists.\n",
      "9: Many revolutionaries of the 19th century such as William Godwin (1756–1836) and Wilhelm Weitling (1808–1871) would contribute to the anarchist doctrines of the next generation but did not use \"anarchist\" or \"anarchism\" in describing themselves or their beliefs.\n",
      "10: The first political philosopher to call himself an \"anarchist\" () was Pierre-Joseph Proudhon (1809–1865), marking the formal birth of anarchism in the mid-19th century.\n"
     ]
    }
   ],
   "source": [
    "# Segmenter 2: \n",
    "#Use it's sentence tokenizer feature\n",
    "from nltk.tokenize import sent_tokenize\n",
    "\n",
    "count=0\n",
    "for t in sent_tokenize(sm_data):\n",
    "    count+=1\n",
    "    print(count,end=\": \")\n",
    "    print(t)\n",
    "    if count==10:\n",
    "        break"
   ]
  },
  {
   "cell_type": "markdown",
   "id": "754eaf27",
   "metadata": {},
   "source": [
    "## Custom Regex Segmenter"
   ]
  },
  {
   "cell_type": "markdown",
   "id": "d66e9b35",
   "metadata": {},
   "source": [
    "> This segmenter implements sentence boundary detection using hand-coded rules based on regular expressions. It is implemented in Python and does not rely on any machine learning techniques.\n",
    "\n",
    ">As discussed in class the decision tree to break the lines, I did almost the same by spliting the input text into words first using str.split(). It then iterates through each word and checks if it ends in punctuation like '.', '!', or '?'. If so, it uses a regex to check if the next word starts not start with a lower case letter. If true, it marks a sentence break."
   ]
  },
  {
   "cell_type": "code",
   "execution_count": 91,
   "id": "20502db4",
   "metadata": {},
   "outputs": [
    {
     "name": "stdout",
     "output_type": "stream",
     "text": [
      "1: employ diverse approaches, which may be generally divided into revolutionary and evolutionary strategies; there is significant overlap between the two.\n",
      "2: Evolutionary methods try to simulate what an anarchist society might be like, but revolutionary tactics, which have historically taken a violent turn, aim to overthrow authority and the state.\n",
      "3: Many facets of human civilization have been influenced by anarchist theory, critique, and praxis.\n",
      "4: Etymology, terminology, and definition.\n",
      "5: The etymological origin of \"anarchism\" is from the Ancient Greek \"anarkhia\", meaning \"without a ruler\", composed of the prefix \"an-\" (\"without\") and the word \"arkhos\" (\"leader\" or \"ruler\").\n",
      "6: The suffix \"-ism\" denotes the ideological current that favours anarchy.\n",
      "7: \"Anarchism\" appears in English from 1642 as \"anarchisme\" and \"anarchy\" from 1539; early English usages emphasised a sense of disorder.\n",
      "8: Various factions within the French Revolution labelled their opponents as \"anarchists\", although few such accused shared many views with later anarchists.\n",
      "9: Many revolutionaries of the 19th century such as William Godwin (1756–1836) and Wilhelm Weitling (1808–1871) would contribute to the anarchist doctrines of the next generation but did not use \"anarchist\" or \"anarchism\" in describing themselves or their beliefs.\n",
      "10: The first political philosopher to call himself an \"anarchist\" () was Pierre-Joseph Proudhon (1809–1865), marking the formal birth of anarchism in the mid-19th century.\n"
     ]
    }
   ],
   "source": [
    "# Segmenter 3:\n",
    "import re\n",
    "\n",
    "def custom_tokenizer(text):\n",
    "    sentences = []\n",
    "    current_sentence = \"\"\n",
    "\n",
    "    # Split the text into words\n",
    "    words = text.split()\n",
    "\n",
    "    for i, word in enumerate(words):\n",
    "        current_sentence += word + \" \"\n",
    "        \n",
    "        # Check if the word ends with '.', '!', or '?'\n",
    "        if re.search(r\"\\.$|\\!$|\\?$\", word):\n",
    "            \n",
    "            # Check if there is a next word available\n",
    "            if i + 1 < len(words):\n",
    "                \n",
    "                next_word = words[i + 1]\n",
    "                \n",
    "                # Check if the next word starts with [A-Z0-9]\n",
    "                if re.search(r\"^[^a-z0-9]\", next_word):\n",
    "                    sentences.append(current_sentence.strip())\n",
    "                    current_sentence = \"\"\n",
    "                #else continue\n",
    "                else:\n",
    "                    pass\n",
    "            else:\n",
    "                sentences.append(current_sentence.strip())\n",
    "                current_sentence = \"\"\n",
    "        #check if word it reached last of the sentences word, end it\n",
    "        elif i == len(words) - 1:\n",
    "            sentences.append(current_sentence.strip())\n",
    "\n",
    "    return sentences\n",
    "\n",
    "sentences = custom_tokenizer(sm_data)\n",
    "count=0\n",
    "for t in sentences:\n",
    "    count+=1\n",
    "    print(count,end=\": \")\n",
    "    print(t)\n",
    "    if count==10:\n",
    "        break\n"
   ]
  },
  {
   "cell_type": "code",
   "execution_count": null,
   "id": "2bec6e6d",
   "metadata": {},
   "outputs": [],
   "source": []
  },
  {
   "cell_type": "markdown",
   "id": "f7058290",
   "metadata": {},
   "source": [
    "## Quantitative evaluation"
   ]
  },
  {
   "cell_type": "markdown",
   "id": "648c1897",
   "metadata": {},
   "source": [
    "> On a sample of 10 paragraphs from English Wikipedia: <b>All the three</b> are working perfectly good and they giving <b>100% accuracy</b>. In a general sceniaro, spaCy model should perform the best as it is trained over so many English news articles, web content, and Wikipedia text. "
   ]
  },
  {
   "cell_type": "markdown",
   "id": "df6ce336",
   "metadata": {},
   "source": [
    "## Qualitative evaluation: "
   ]
  },
  {
   "cell_type": "markdown",
   "id": "489fa3f8",
   "metadata": {},
   "source": [
    "> Intially I was getting 90% accuracy in my regex model because one sentence was starting with \" symbol so I have to change the regex, there might be so many different possible cases that i need to consider, to make it perfect! but this one is working perfectly in this case. There are cases where regex segmenter can go wrong:\n",
    "\n",
    "1. One case could be where a sentence starts with a lowercase letter or a number.\n",
    "\n",
    "2. The segmenter might have difficulty with abbreviations that contain multiple periods, such as \"Mr. Smith\" .\n",
    "\n",
    "3. If an exclamation or question mark appears within a sentence (e.g., in quotations)\n",
    "\n",
    "4. If sentence ends with any other special character apart from (. ! ?)\n",
    "\n",
    "\n",
    "For Spacy and NLP inbuild sentence segmenter, they might struggle with highly informal or ungrammatical text. "
   ]
  }
 ],
 "metadata": {
  "kernelspec": {
   "display_name": "Python 3 (ipykernel)",
   "language": "python",
   "name": "python3"
  },
  "language_info": {
   "codemirror_mode": {
    "name": "ipython",
    "version": 3
   },
   "file_extension": ".py",
   "mimetype": "text/x-python",
   "name": "python",
   "nbconvert_exporter": "python",
   "pygments_lexer": "ipython3",
   "version": "3.8.0"
  },
  "toc": {
   "base_numbering": 1,
   "nav_menu": {},
   "number_sections": true,
   "sideBar": true,
   "skip_h1_title": false,
   "title_cell": "Table of Contents",
   "title_sidebar": "Contents",
   "toc_cell": false,
   "toc_position": {},
   "toc_section_display": true,
   "toc_window_display": false
  },
  "varInspector": {
   "cols": {
    "lenName": 16,
    "lenType": 16,
    "lenVar": 40
   },
   "kernels_config": {
    "python": {
     "delete_cmd_postfix": "",
     "delete_cmd_prefix": "del ",
     "library": "var_list.py",
     "varRefreshCmd": "print(var_dic_list())"
    },
    "r": {
     "delete_cmd_postfix": ") ",
     "delete_cmd_prefix": "rm(",
     "library": "var_list.r",
     "varRefreshCmd": "cat(var_dic_list()) "
    }
   },
   "types_to_exclude": [
    "module",
    "function",
    "builtin_function_or_method",
    "instance",
    "_Feature"
   ],
   "window_display": false
  }
 },
 "nbformat": 4,
 "nbformat_minor": 5
}
